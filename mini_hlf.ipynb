{
 "cells": [
  {
   "attachments": {},
   "cell_type": "markdown",
   "metadata": {},
   "source": [
    "#### Bonus track. Mini hundir la flota\n",
    "1. Crea un tablero de 10x10 relleno del carácter espacio \" \".\n",
    "2. Posiciona un par de barcos en [(0,1), (1,1)] y [(1,3), (1,4), (1,5), (1,6)]. Los barcos serán Os mayúsculas. Como ves, un barco de dos posiciones de eslora y otro de cuatro.\n",
    "3. Recibe un disparo en uno de los barcos, sustituyendo la O por una X\n",
    "4. Recibe un disparo en agua, sustituyendo uno de los espacios por un guión: -\n",
    "5. Ignorando los disparos recibidos, ahora prueba a posicionar otro barco de 4 posiciones dentro del tablero, pero **de manera ALEATORIA.**\n",
    "\n",
    "**TIP apartado 5**: El barco tendrá una posición inicial aleatoria dentro del tablero, y una orientación también aleatoria (N,S,E,O).\n",
    "\n",
    "Por ejemplo, si tu posicion inicial fuese (5,0) y la orientación O, no podrias ponerlo porque se sale del tablero. Ahora bien, si fuese orientación este, si podrías, y ocuparía las posiciones [(5,0), (5,1), (5,2), (5,3)]. Por tanto tendrás que iterar con un bucle si es posible encajar el barco en el tablero, y el bucle terminará cuando lo consigas encajar. **Ojo con las posiciones donde ya hay barco!!!**\n",
    "\n",
    "Usa `import random` para elegir las coordenadas aleatorias."
   ]
  },
  {
   "cell_type": "code",
   "execution_count": 18,
   "metadata": {},
   "outputs": [],
   "source": [
    "import numpy as np"
   ]
  },
  {
   "cell_type": "code",
   "execution_count": 19,
   "metadata": {},
   "outputs": [
    {
     "name": "stdout",
     "output_type": "stream",
     "text": [
      "[['_' '_' '_' '_' '_' '_' '_' '_' '_' '_']\n",
      " ['_' '_' '_' '_' '_' '_' '_' '_' '_' '_']\n",
      " ['_' '_' '_' '_' '_' '_' '_' '_' '_' '_']\n",
      " ['_' '_' '_' '_' '_' '_' '_' '_' '_' '_']\n",
      " ['_' '_' '_' '_' '_' '_' '_' '_' '_' '_']\n",
      " ['_' '_' '_' '_' '_' '_' '_' '_' '_' '_']\n",
      " ['_' '_' '_' '_' '_' '_' '_' '_' '_' '_']\n",
      " ['_' '_' '_' '_' '_' '_' '_' '_' '_' '_']\n",
      " ['_' '_' '_' '_' '_' '_' '_' '_' '_' '_']\n",
      " ['_' '_' '_' '_' '_' '_' '_' '_' '_' '_']]\n"
     ]
    }
   ],
   "source": [
    "tablero = np.full((10,10), \"_\")\n",
    "print(tablero)"
   ]
  },
  {
   "cell_type": "code",
   "execution_count": 20,
   "metadata": {},
   "outputs": [],
   "source": [
    "def crear_tablero(tamaño=(10,10)):\n",
    "    return np.full(tamaño, \"_\")"
   ]
  },
  {
   "cell_type": "code",
   "execution_count": 21,
   "metadata": {},
   "outputs": [
    {
     "name": "stdout",
     "output_type": "stream",
     "text": [
      "[['_' '_' '_' '_' '_' '_' '_' '_' '_' '_']\n",
      " ['_' '_' '_' '_' '_' '_' '_' '_' '_' '_']\n",
      " ['_' '_' '_' '_' '_' '_' '_' '_' '_' '_']\n",
      " ['_' '_' '_' '_' '_' '_' '_' '_' '_' '_']\n",
      " ['_' '_' '_' '_' '_' '_' '_' '_' '_' '_']\n",
      " ['_' '_' '_' '_' '_' '_' '_' '_' '_' '_']\n",
      " ['_' '_' '_' '_' '_' '_' '_' '_' '_' '_']\n",
      " ['_' '_' '_' '_' '_' '_' '_' '_' '_' '_']\n",
      " ['_' '_' '_' '_' '_' '_' '_' '_' '_' '_']\n",
      " ['_' '_' '_' '_' '_' '_' '_' '_' '_' '_']]\n"
     ]
    }
   ],
   "source": [
    "tablero = crear_tablero()\n",
    "print(tablero)"
   ]
  },
  {
   "cell_type": "code",
   "execution_count": null,
   "metadata": {},
   "outputs": [],
   "source": [
    "# [(0,1), (1,1)] y [(1,3), (1,4), (1,5), (1,6)]"
   ]
  },
  {
   "cell_type": "code",
   "execution_count": 5,
   "metadata": {},
   "outputs": [
    {
     "name": "stdout",
     "output_type": "stream",
     "text": [
      "[['_' 'O' '_' '_' '_' '_' '_' '_' '_' '_']\n",
      " ['_' 'O' '_' '_' '_' '_' '_' '_' '_' '_']\n",
      " ['_' '_' '_' '_' '_' '_' '_' '_' '_' '_']\n",
      " ['_' '_' '_' '_' '_' '_' '_' '_' '_' '_']\n",
      " ['_' '_' '_' '_' '_' '_' '_' '_' '_' '_']\n",
      " ['_' '_' '_' '_' '_' '_' '_' '_' '_' '_']\n",
      " ['_' '_' '_' '_' '_' '_' '_' '_' '_' '_']\n",
      " ['_' '_' '_' '_' '_' '_' '_' '_' '_' '_']\n",
      " ['_' '_' '_' '_' '_' '_' '_' '_' '_' '_']\n",
      " ['_' '_' '_' '_' '_' '_' '_' '_' '_' '_']]\n"
     ]
    }
   ],
   "source": [
    "tablero[0][1] = \"O\"\n",
    "# print(tablero)\n",
    "tablero[1,1] = \"O\"\n",
    "# print(tablero)\n",
    "tablero[(0,1)] = \"O\"\n",
    "tablero[(1,1)] = \"O\"\n",
    "# print(tablero)\n",
    "tablero[0:2,1:2] = \"O\"\n",
    "print(tablero)"
   ]
  },
  {
   "cell_type": "code",
   "execution_count": 6,
   "metadata": {},
   "outputs": [
    {
     "name": "stdout",
     "output_type": "stream",
     "text": [
      "[['_' 'O' '_' '_' '_' '_' '_' '_' '_' '_']\n",
      " ['_' 'O' '_' 'O' 'O' 'O' 'O' '_' '_' '_']\n",
      " ['_' '_' '_' '_' '_' '_' '_' '_' '_' '_']\n",
      " ['_' '_' '_' '_' '_' '_' '_' '_' '_' '_']\n",
      " ['_' '_' '_' '_' '_' '_' '_' '_' '_' '_']\n",
      " ['_' '_' '_' '_' '_' '_' '_' '_' '_' '_']\n",
      " ['_' '_' '_' '_' '_' '_' '_' '_' '_' '_']\n",
      " ['_' '_' '_' '_' '_' '_' '_' '_' '_' '_']\n",
      " ['_' '_' '_' '_' '_' '_' '_' '_' '_' '_']\n",
      " ['_' '_' '_' '_' '_' '_' '_' '_' '_' '_']]\n"
     ]
    }
   ],
   "source": [
    "barco_1 = [(0,1), (1,1)]\n",
    "barco_2 = [(1,3), (1,4), (1,5), (1,6)]\n",
    "\n",
    "for casilla in barco_2:\n",
    "    tablero[casilla] = \"O\"\n",
    "\n",
    "print(tablero)"
   ]
  },
  {
   "cell_type": "code",
   "execution_count": 7,
   "metadata": {},
   "outputs": [],
   "source": [
    "def colocar_barco(barco, tablero):\n",
    "    for casilla in barco:\n",
    "        tablero[casilla] = \"O\"\n",
    "    return tablero"
   ]
  },
  {
   "cell_type": "code",
   "execution_count": 8,
   "metadata": {},
   "outputs": [
    {
     "name": "stdout",
     "output_type": "stream",
     "text": [
      "[['_' 'O' '_' '_' '_' '_' '_' '_' '_' '_']\n",
      " ['_' 'O' '_' 'O' 'O' 'O' 'O' '_' '_' '_']\n",
      " ['_' '_' '_' '_' '_' '_' '_' '_' '_' '_']\n",
      " ['_' '_' '_' '_' '_' '_' '_' '_' '_' '_']\n",
      " ['_' '_' '_' '_' '_' '_' '_' '_' '_' '_']\n",
      " ['_' '_' '_' '_' '_' '_' '_' '_' '_' '_']\n",
      " ['_' '_' '_' '_' '_' '_' '_' '_' '_' '_']\n",
      " ['_' '_' '_' '_' '_' '_' '_' '_' '_' '_']\n",
      " ['_' '_' '_' '_' '_' '_' '_' '_' '_' '_']\n",
      " ['_' '_' '_' '_' '_' '_' '_' '_' '_' '_']]\n"
     ]
    }
   ],
   "source": [
    "tablero = crear_tablero()\n",
    "# print(tablero)\n",
    "\n",
    "barco_1 = [(0,1), (1,1)]\n",
    "barco_2 = [(1,3), (1,4), (1,5), (1,6)]\n",
    "\n",
    "tablero = colocar_barco(barco_1, tablero)\n",
    "tablero = colocar_barco(barco_2, tablero)\n",
    "print(tablero)\n"
   ]
  },
  {
   "cell_type": "code",
   "execution_count": 36,
   "metadata": {},
   "outputs": [
    {
     "name": "stdout",
     "output_type": "stream",
     "text": [
      "Tocado\n",
      "[['_' 'O' '_' '_' '_' '_' '_' '_' '_' '_']\n",
      " ['_' 'X' '_' 'O' 'O' 'O' 'O' '_' '_' '_']\n",
      " ['_' '_' '_' '_' '_' '_' '_' '_' '_' '_']\n",
      " ['_' '_' '_' '_' '_' '_' '_' '_' 'A' '_']\n",
      " ['_' '_' '_' '_' '_' '_' '_' '_' '_' '_']\n",
      " ['_' '_' '_' '_' '_' '_' '_' '_' '_' '_']\n",
      " ['_' '_' '_' '_' '_' '_' '_' '_' '_' '_']\n",
      " ['_' '_' '_' '_' '_' '_' '_' '_' '_' '_']\n",
      " ['_' '_' '_' '_' '_' '_' '_' '_' '_' '_']\n",
      " ['_' '_' '_' '_' '_' '_' '_' '_' '_' '_']]\n"
     ]
    }
   ],
   "source": [
    "disparo = (1,1)\n",
    "\n",
    "if tablero[disparo] == \"_\":\n",
    "    print(\"Agua\")\n",
    "    tablero[disparo] = \"A\"\n",
    "elif tablero[disparo] == \"O\":\n",
    "    print(\"Tocado\")\n",
    "    tablero[disparo] = \"X\"\n",
    "else:\n",
    "    print(\"Ya has disparado aquí\")\n",
    "\n",
    "print(tablero)"
   ]
  },
  {
   "cell_type": "code",
   "execution_count": 108,
   "metadata": {},
   "outputs": [],
   "source": [
    "def disparar(casilla, tablero):\n",
    "    if tablero[casilla] == \"_\":\n",
    "        print(\"Agua\")\n",
    "        tablero[casilla] = \"A\"\n",
    "    elif tablero[casilla] == \"O\":\n",
    "        print(\"Tocado\")\n",
    "        tablero[casilla] = \"X\"\n",
    "    else:\n",
    "        print(\"Ya has disparado aquí\")\n",
    "    return tablero"
   ]
  },
  {
   "cell_type": "code",
   "execution_count": 39,
   "metadata": {},
   "outputs": [
    {
     "name": "stdout",
     "output_type": "stream",
     "text": [
      "Agua\n",
      "Agua\n",
      "Tocado\n",
      "[['_' 'O' '_' '_' '_' '_' '_' '_' '_' '_']\n",
      " ['_' 'O' '_' 'O' 'O' 'X' 'O' 'A' '_' '_']\n",
      " ['_' '_' '_' '_' '_' '_' '_' '_' '_' '_']\n",
      " ['_' '_' '_' '_' '_' 'A' '_' '_' '_' '_']\n",
      " ['_' '_' '_' '_' '_' '_' '_' '_' '_' '_']\n",
      " ['_' '_' '_' '_' '_' '_' '_' '_' '_' '_']\n",
      " ['_' '_' '_' '_' '_' '_' '_' '_' '_' '_']\n",
      " ['_' '_' '_' '_' '_' '_' '_' '_' '_' '_']\n",
      " ['_' '_' '_' '_' '_' '_' '_' '_' '_' '_']\n",
      " ['_' '_' '_' '_' '_' '_' '_' '_' '_' '_']]\n"
     ]
    }
   ],
   "source": [
    "tablero = crear_tablero()\n",
    "\n",
    "barco_1 = [(0,1), (1,1)]\n",
    "barco_2 = [(1,3), (1,4), (1,5), (1,6)]\n",
    "\n",
    "tablero = colocar_barco(barco_1, tablero)\n",
    "tablero = colocar_barco(barco_2, tablero)\n",
    "\n",
    "tablero = disparar((3,5), tablero)\n",
    "tablero = disparar((1,7), tablero)\n",
    "tablero = disparar((1,5), tablero)\n",
    "\n",
    "print(tablero)"
   ]
  },
  {
   "cell_type": "code",
   "execution_count": 22,
   "metadata": {},
   "outputs": [],
   "source": [
    "import random"
   ]
  },
  {
   "cell_type": "code",
   "execution_count": 27,
   "metadata": {},
   "outputs": [
    {
     "name": "stdout",
     "output_type": "stream",
     "text": [
      "fila random 2\n",
      "columna random 8\n"
     ]
    }
   ],
   "source": [
    "fila_a = random.randint(0,9)\n",
    "print(\"fila random\", fila_a)\n",
    "columna_a = random.randint(0,9)\n",
    "print(\"columna random\", columna_a)"
   ]
  },
  {
   "cell_type": "code",
   "execution_count": 29,
   "metadata": {},
   "outputs": [
    {
     "name": "stdout",
     "output_type": "stream",
     "text": [
      "O\n"
     ]
    }
   ],
   "source": [
    "orientacion = random.choice([\"S\",\"O\",\"E\",\"N\"])\n",
    "print(orientacion)"
   ]
  },
  {
   "cell_type": "code",
   "execution_count": 26,
   "metadata": {},
   "outputs": [],
   "source": [
    "barco_1 = [(0,1), (1,1)]\n",
    "barco_2 = [(1,3), (1,4), (1,5), (1,6)]"
   ]
  },
  {
   "cell_type": "code",
   "execution_count": 34,
   "metadata": {},
   "outputs": [
    {
     "name": "stdout",
     "output_type": "stream",
     "text": [
      "[(2, 8)]\n"
     ]
    }
   ],
   "source": [
    "barco_aleatorio = []\n",
    "barco_aleatorio.append((fila_a, columna_a))\n",
    "print(barco_aleatorio)"
   ]
  },
  {
   "cell_type": "code",
   "execution_count": 30,
   "metadata": {},
   "outputs": [
    {
     "name": "stdout",
     "output_type": "stream",
     "text": [
      "O\n"
     ]
    }
   ],
   "source": [
    "print(orientacion)"
   ]
  },
  {
   "cell_type": "code",
   "execution_count": 37,
   "metadata": {},
   "outputs": [
    {
     "name": "stdout",
     "output_type": "stream",
     "text": [
      "[(2, 8), (2, 7), (2, 6), (2, 5)]\n"
     ]
    }
   ],
   "source": [
    "columna_a = columna_a - 1\n",
    "barco_aleatorio.append((fila_a, columna_a))\n",
    "print(barco_aleatorio)"
   ]
  },
  {
   "cell_type": "code",
   "execution_count": 38,
   "metadata": {},
   "outputs": [
    {
     "name": "stdout",
     "output_type": "stream",
     "text": [
      "[(0, 1), (1, 1)]\n",
      "[(2, 8), (2, 7), (2, 6), (2, 5)]\n"
     ]
    }
   ],
   "source": [
    "print(barco_1)\n",
    "print(barco_aleatorio)"
   ]
  },
  {
   "cell_type": "code",
   "execution_count": 39,
   "metadata": {},
   "outputs": [
    {
     "name": "stdout",
     "output_type": "stream",
     "text": [
      "[(2, 5), (2, 4), (2, 3), (2, 2)]\n"
     ]
    }
   ],
   "source": [
    "barco_aleatorio = []\n",
    "\n",
    "while len(barco_aleatorio) < 4:\n",
    "\n",
    "    barco_aleatorio.append((fila_a, columna_a))\n",
    "    # Oeste\n",
    "    columna_a = columna_a - 1\n",
    "\n",
    "print(barco_aleatorio)"
   ]
  },
  {
   "cell_type": "code",
   "execution_count": 43,
   "metadata": {},
   "outputs": [],
   "source": [
    "def crear_barco_random(eslora):\n",
    "    fila_a = random.randint(0,9)\n",
    "    # print(\"fila random\", fila_a)\n",
    "    # fila_a = 2\n",
    "    columna_a = random.randint(0,9)\n",
    "    # print(\"columna random\", columna_a)\n",
    "    # columna_a = 8\n",
    "\n",
    "    orientacion = random.choice([\"S\",\"O\",\"E\",\"N\"])\n",
    "    # orientacion = \"O\"\n",
    "\n",
    "    barco = [(fila_a, columna_a)]\n",
    "\n",
    "    while len(barco) < eslora:\n",
    "        # Oeste\n",
    "        columna_a = columna_a - 1\n",
    "        barco.append((fila_a, columna_a))\n",
    "\n",
    "    return barco\n"
   ]
  },
  {
   "cell_type": "code",
   "execution_count": 72,
   "metadata": {},
   "outputs": [
    {
     "name": "stdout",
     "output_type": "stream",
     "text": [
      "[(5, 1), (5, 0), (5, -1), (5, -2)]\n"
     ]
    }
   ],
   "source": [
    "barco_3 = crear_barco_random(4)\n",
    "print(barco_3)"
   ]
  },
  {
   "cell_type": "code",
   "execution_count": 83,
   "metadata": {},
   "outputs": [
    {
     "name": "stdout",
     "output_type": "stream",
     "text": [
      "[(4, 3), (4, 2)]\n"
     ]
    }
   ],
   "source": [
    "barco_4 = crear_barco_random(2)\n",
    "print(barco_4)"
   ]
  },
  {
   "cell_type": "code",
   "execution_count": 93,
   "metadata": {},
   "outputs": [],
   "source": [
    "def crear_barco_random(eslora):\n",
    "    fila_a = random.randint(0,9)\n",
    "    columna_a = random.randint(0,9)\n",
    "\n",
    "    orientacion = random.choice([\"S\",\"O\",\"E\",\"N\"])\n",
    "\n",
    "    barco = [(fila_a, columna_a)]\n",
    "\n",
    "    while len(barco) < eslora:\n",
    "        match orientacion:\n",
    "            case \"O\":\n",
    "                columna_a -= 1 # columna_a = columna_a - 1\n",
    "            case \"E\":\n",
    "                columna_a += 1\n",
    "            case \"S\":\n",
    "                fila_a += 1\n",
    "            case \"N\":\n",
    "                fila_a -= 1\n",
    "        barco.append((fila_a, columna_a))\n",
    "\n",
    "    return barco"
   ]
  },
  {
   "cell_type": "code",
   "execution_count": 104,
   "metadata": {},
   "outputs": [
    {
     "data": {
      "text/plain": [
       "[(2, 6), (1, 6), (0, 6), (-1, 6)]"
      ]
     },
     "execution_count": 104,
     "metadata": {},
     "output_type": "execute_result"
    }
   ],
   "source": [
    "crear_barco_random(4)"
   ]
  },
  {
   "cell_type": "code",
   "execution_count": 109,
   "metadata": {},
   "outputs": [
    {
     "name": "stdout",
     "output_type": "stream",
     "text": [
      "Agua\n",
      "Agua\n",
      "Tocado\n",
      "[['_' 'O' '_' '_' '_' '_' '_' '_' '_' '_']\n",
      " ['_' 'O' '_' 'O' 'O' 'X' 'O' 'A' '_' '_']\n",
      " ['_' '_' '_' '_' '_' '_' '_' '_' '_' '_']\n",
      " ['_' '_' '_' '_' '_' 'A' '_' '_' '_' '_']\n",
      " ['_' '_' '_' '_' '_' '_' '_' '_' '_' '_']\n",
      " ['_' 'O' '_' '_' '_' '_' '_' '_' '_' '_']\n",
      " ['_' 'O' '_' '_' 'O' '_' '_' '_' '_' '_']\n",
      " ['_' 'O' '_' '_' 'O' '_' '_' '_' '_' '_']\n",
      " ['_' 'O' '_' '_' 'O' '_' '_' '_' '_' '_']\n",
      " ['_' '_' '_' '_' '_' '_' '_' '_' '_' '_']]\n"
     ]
    }
   ],
   "source": [
    "tablero = crear_tablero()\n",
    "\n",
    "barco_1 = [(0,1), (1,1)]\n",
    "barco_2 = [(1,3), (1,4), (1,5), (1,6)]\n",
    "barco_3 = crear_barco_random(3)\n",
    "barco_4 = crear_barco_random(4)\n",
    "\n",
    "\n",
    "tablero = colocar_barco(barco_1, tablero)\n",
    "tablero = colocar_barco(barco_2, tablero)\n",
    "tablero = colocar_barco(barco_3, tablero)\n",
    "tablero = colocar_barco(barco_4, tablero)\n",
    "\n",
    "tablero = disparar((3,5), tablero)\n",
    "tablero = disparar((1,7), tablero)\n",
    "tablero = disparar((1,5), tablero)\n",
    "\n",
    "print(tablero)"
   ]
  },
  {
   "cell_type": "code",
   "execution_count": null,
   "metadata": {},
   "outputs": [],
   "source": [
    "tablero = crear_tablero()\n",
    "\n",
    "# barco_1 = [(0,1), (1,1)]\n",
    "# barco_2 = [(1,3), (1,4), (1,5), (1,6)]\n",
    "# barco_3 = crear_barco_random(3)\n",
    "# barco_4 = crear_barco_random(4)\n",
    "\n",
    "barcos = [crear_barco_random(2), crear_barco_random(4), crear_barco_random(3), crear_barco_random(4)]\n",
    "\n",
    "for barco in barcos:\n",
    "    tablero = colocar_barco(barco, tablero)\n",
    "\n",
    "# tablero = colocar_barco(barco_1, tablero)\n",
    "# tablero = colocar_barco(barco_2, tablero)\n",
    "# tablero = colocar_barco(barco_3, tablero)\n",
    "# tablero = colocar_barco(barco_4, tablero)\n",
    "\n",
    "tablero = disparar((3,5), tablero)\n",
    "tablero = disparar((1,7), tablero)\n",
    "tablero = disparar((1,5), tablero)\n",
    "\n",
    "print(tablero)"
   ]
  },
  {
   "cell_type": "code",
   "execution_count": 110,
   "metadata": {},
   "outputs": [],
   "source": [
    "def colocar_barcos(barcos, tablero):\n",
    "    for barco in barcos:\n",
    "        tablero = colocar_barco(barco, tablero)\n",
    "    return tablero"
   ]
  },
  {
   "cell_type": "code",
   "execution_count": 114,
   "metadata": {},
   "outputs": [
    {
     "name": "stdout",
     "output_type": "stream",
     "text": [
      "Agua\n",
      "Agua\n",
      "Agua\n",
      "[['_' '_' '_' '_' '_' '_' '_' '_' '_' 'O']\n",
      " ['_' '_' '_' '_' '_' 'A' '_' 'A' '_' 'O']\n",
      " ['_' '_' '_' '_' '_' '_' '_' '_' '_' 'O']\n",
      " ['_' '_' '_' '_' '_' 'A' '_' '_' '_' 'O']\n",
      " ['_' '_' '_' '_' '_' 'O' 'O' '_' '_' '_']\n",
      " ['_' '_' '_' '_' '_' '_' '_' '_' '_' '_']\n",
      " ['_' '_' '_' '_' '_' '_' '_' '_' '_' '_']\n",
      " ['_' '_' '_' 'O' 'O' 'O' 'O' '_' '_' '_']\n",
      " ['_' '_' '_' '_' '_' '_' '_' '_' '_' '_']\n",
      " ['_' '_' '_' '_' '_' '_' '_' '_' '_' '_']]\n"
     ]
    }
   ],
   "source": [
    "tablero = crear_tablero()\n",
    "\n",
    "barcos = [crear_barco_random(2), crear_barco_random(4), crear_barco_random(3), crear_barco_random(4)]\n",
    "\n",
    "tablero = colocar_barcos(barcos, tablero)\n",
    "\n",
    "tablero = disparar((3,5), tablero)\n",
    "tablero = disparar((1,7), tablero)\n",
    "tablero = disparar((1,5), tablero)\n",
    "\n",
    "print(tablero)"
   ]
  },
  {
   "cell_type": "code",
   "execution_count": null,
   "metadata": {},
   "outputs": [],
   "source": [
    "# class Barco:\n",
    "\n",
    "\n",
    "# class Tablero:"
   ]
  },
  {
   "cell_type": "markdown",
   "metadata": {},
   "source": [
    "### Yo empiezo aquí\n",
    "\n",
    "* Lo primero será solucionar el problema de que al colocar el barco se salga del tablero"
   ]
  },
  {
   "cell_type": "code",
   "execution_count": null,
   "metadata": {},
   "outputs": [],
   "source": [
    "barco1=(0,0)"
   ]
  },
  {
   "cell_type": "code",
   "execution_count": 52,
   "metadata": {},
   "outputs": [],
   "source": [
    "def crear_tablero(tamaño=(10,10)):\n",
    "    return np.full(tamaño, \"_\")"
   ]
  },
  {
   "cell_type": "code",
   "execution_count": 59,
   "metadata": {},
   "outputs": [],
   "source": [
    "tablero=crear_tablero(tamaño=(10,10))"
   ]
  },
  {
   "cell_type": "code",
   "execution_count": 60,
   "metadata": {},
   "outputs": [],
   "source": [
    "def crear_barco_random(eslora):\n",
    "    fila_a = random.randint(0,9)\n",
    "    columna_a = random.randint(0,9)\n",
    "\n",
    "    orientacion = random.choice([\"S\",\"O\",\"E\",\"N\"])\n",
    "\n",
    "    barco = [(fila_a, columna_a)]\n",
    "\n",
    "    while len(barco) < eslora:\n",
    "        match orientacion:\n",
    "            case \"O\":\n",
    "                columna_a -= 1 # columna_a = columna_a - 1\n",
    "            case \"E\":\n",
    "                columna_a += 1\n",
    "            case \"S\":\n",
    "                fila_a += 1\n",
    "            case \"N\":\n",
    "                fila_a -= 1\n",
    "        barco.append((fila_a, columna_a))\n",
    "    \"\"\"\n",
    "    Aquí voy a meter un bucle donde revise las tuplas que nos dicen la casilla de las posiciones de un barco para que si \n",
    "    son mayores de 9 o menores de 0 me elimine el barco y lo añada a una lista de barcos eliminados, de esta manera me quito el problema de que el \n",
    "    barco se salga del tablero ya al crear el barco \n",
    "    \"\"\"\n",
    "\n",
    "\n",
    "    barcos_no_validos:[]\n",
    "    for elem in barco:\n",
    "        for n in elem:\n",
    "            if n <0 or n >9:\n",
    "                barcos_no_validos.append(barco)\n",
    "                print(\"Este barco no es válido, vuelve a generar un barco aleatorio\")\n",
    "                \n",
    "\n",
    "    return barco"
   ]
  },
  {
   "cell_type": "code",
   "execution_count": 65,
   "metadata": {},
   "outputs": [
    {
     "name": "stdout",
     "output_type": "stream",
     "text": [
      "[(4, 7), (5, 7), (6, 7), (7, 7)]\n"
     ]
    }
   ],
   "source": [
    "barco_6= crear_barco_random(4)\n",
    "print(barco_6)"
   ]
  },
  {
   "cell_type": "code",
   "execution_count": 62,
   "metadata": {},
   "outputs": [],
   "source": [
    "barco4 = crear_barco_random(3)"
   ]
  },
  {
   "cell_type": "code",
   "execution_count": 56,
   "metadata": {},
   "outputs": [],
   "source": [
    "def colocar_barco(barco, tablero):\n",
    "    for casilla in barco:\n",
    "        tablero[casilla] = \"O\"\n",
    "    return tablero"
   ]
  },
  {
   "cell_type": "code",
   "execution_count": 66,
   "metadata": {},
   "outputs": [
    {
     "name": "stdout",
     "output_type": "stream",
     "text": [
      "[['_' '_' '_' '_' '_' '_' '_' '_' '_' '_']\n",
      " ['_' '_' '_' '_' '_' '_' '_' '_' '_' '_']\n",
      " ['_' '_' '_' '_' '_' '_' '_' '_' '_' '_']\n",
      " ['_' '_' '_' '_' '_' '_' '_' '_' '_' '_']\n",
      " ['_' '_' '_' '_' '_' '_' '_' '_' '_' '_']\n",
      " ['_' '_' '_' '_' '_' 'O' '_' '_' '_' '_']\n",
      " ['_' '_' '_' '_' '_' 'O' '_' '_' '_' '_']\n",
      " ['_' '_' '_' '_' '_' 'O' '_' '_' '_' '_']\n",
      " ['_' '_' '_' '_' '_' '_' '_' '_' '_' '_']\n",
      " ['_' '_' '_' '_' '_' '_' '_' '_' '_' '_']]\n"
     ]
    }
   ],
   "source": [
    "colocar_barco(barco4,tablero)\n",
    "print(tablero)\n",
    "colocar_barco"
   ]
  },
  {
   "cell_type": "code",
   "execution_count": 47,
   "metadata": {},
   "outputs": [
    {
     "name": "stdout",
     "output_type": "stream",
     "text": [
      "Este barco no es válido, vuelve a generar un barco aleatorio\n",
      "[[(0, 1), (1, 10)]]\n"
     ]
    }
   ],
   "source": [
    "barco5=[(0,1),(1,10)]\n",
    "barcos_no_validos=[]\n",
    "for elem in barco5:\n",
    "    for n in elem:\n",
    "        if n <0 or n >9:\n",
    "            barcos_no_validos.append(barco5)\n",
    "            print(\"Este barco no es válido, vuelve a generar un barco aleatorio\")\n",
    "print(barcos_no_validos)"
   ]
  },
  {
   "cell_type": "markdown",
   "metadata": {},
   "source": [
    "* Ahora toca solucionar el tema de que cuando ya haya un barco colocado y el siguiente se superponga  lo elimine y te vuelva a decir que en esa posición no se puede colocar\n",
    "creo que habría que hacer un bucle que recorra una lista de barcos y otro bucle dentro que recorra las tuplas de cada barco y si algun elemento de cada barco(tupla) coincide con otra de otro barco eliminar uno de los dos o cambiar su orientacion hasta que pueda colocarlo."
   ]
  },
  {
   "cell_type": "code",
   "execution_count": null,
   "metadata": {},
   "outputs": [],
   "source": []
  }
 ],
 "metadata": {
  "kernelspec": {
   "display_name": "Python 3.7.4 64-bit",
   "language": "python",
   "name": "python3"
  },
  "language_info": {
   "codemirror_mode": {
    "name": "ipython",
    "version": 3
   },
   "file_extension": ".py",
   "mimetype": "text/x-python",
   "name": "python",
   "nbconvert_exporter": "python",
   "pygments_lexer": "ipython3",
   "version": "3.12.1"
  },
  "orig_nbformat": 4,
  "vscode": {
   "interpreter": {
    "hash": "90139cb9a825bf3d63f6f6704e828dbd1ff7edbd4d0c6e906a71235d6efc74af"
   }
  }
 },
 "nbformat": 4,
 "nbformat_minor": 2
}
