{
 "cells": [
  {
   "cell_type": "code",
   "execution_count": 1,
   "metadata": {},
   "outputs": [],
   "source": [
    "import numpy as np\n",
    "import random"
   ]
  },
  {
   "cell_type": "code",
   "execution_count": 29,
   "metadata": {},
   "outputs": [
    {
     "name": "stdout",
     "output_type": "stream",
     "text": [
      "[['_' '_' '_' '_' '_' '_' '_' '_' '_' '_']\n",
      " ['_' '_' '_' '_' '_' '_' '_' '_' '_' '_']\n",
      " ['_' '_' '_' '_' '_' '_' '_' '_' '_' '_']\n",
      " ['_' '_' '_' '_' '_' '_' '_' '_' '_' '_']\n",
      " ['_' '_' '_' '_' '_' '_' '_' '_' '_' '_']\n",
      " ['_' '_' '_' '_' '_' '_' '_' '_' '_' '_']\n",
      " ['_' '_' '_' '_' '_' '_' '_' '_' '_' '_']\n",
      " ['_' '_' '_' '_' '_' '_' '_' '_' '_' '_']\n",
      " ['_' '_' '_' '_' '_' '_' '_' '_' '_' '_']\n",
      " ['_' '_' '_' '_' '_' '_' '_' '_' '_' '_']]\n"
     ]
    }
   ],
   "source": [
    "\n",
    "def crear_tablero(tamaño=(10,10)):\n",
    "    return np.full(tamaño, \"_\")\n",
    "\n",
    "barcos_no_validos=[]\n",
    "\n",
    "barcos_validos=[]\n",
    "\n",
    "casilla_o= \"B\"\n",
    "\n",
    "fila_a = random.randint(0,9)\n",
    "fila_inicio=fila_a\n",
    "columna_a = random.randint(0,9)\n",
    "columna_inicio=columna_a\n",
    "orientacion = random.choice([\"S\",\"O\",\"E\",\"N\"])\n",
    "barco = [(fila_inicio, columna_inicio)]\n",
    "\n",
    "\n",
    "tablero=crear_tablero()\n",
    "print(tablero)\n",
    "\n",
    "\n",
    "#def colocar_barco(barco, tablero):\n",
    "# for casilla in barco:\n",
    "#     if casilla==\"B\":\n",
    "#         barco=[]\n",
    "#     else:\n",
    "#         casilla = \"B\"\n",
    "#  return print(tablero)"
   ]
  },
  {
   "cell_type": "code",
   "execution_count": 30,
   "metadata": {},
   "outputs": [],
   "source": [
    "def colocar_barco(barco, tablero):\n",
    "    for casilla in barco:\n",
    "        tablero[casilla]=\"O\"\n",
    "    return tablero"
   ]
  },
  {
   "cell_type": "code",
   "execution_count": 31,
   "metadata": {},
   "outputs": [],
   "source": [
    "def crear_barco_random(eslora,tablero):\n",
    "    \n",
    "    fila_a = random.randint(0,9)\n",
    "    columna_a = random.randint(0,9)\n",
    "    fila_inicio=fila_a\n",
    "    columna_inicio = columna_a\n",
    "    orientacion = random.choice([\"S\",\"O\",\"E\",\"N\"])\n",
    "    barco = [(fila_inicio, columna_inicio)]\n",
    "\n",
    "\n",
    "\n",
    "    while len(barco) < eslora:\n",
    "\n",
    "    \n",
    "        match orientacion:\n",
    "            case \"O\":\n",
    "                \n",
    "                if columna_a - (eslora-1)>=0:\n",
    "                     columna_inicio -= 1   \n",
    "                else:\n",
    "                    orientacion = \"E\"\n",
    "                    print(orientacion)\n",
    "                    continue\n",
    "                        \n",
    "                     \n",
    "            case \"E\":\n",
    "                \n",
    "                if columna_a + (eslora-1)<=9:\n",
    "                    columna_inicio += 1\n",
    "                else:\n",
    "                    orientacion=\"O\"\n",
    "                    print(orientacion)\n",
    "                    continue\n",
    "            case \"S\":\n",
    "                    \n",
    "                if fila_a + (eslora-1)<=9:\n",
    "                    fila_inicio += 1\n",
    "                else:\n",
    "                    orientacion=\"N\"\n",
    "                    print(orientacion)\n",
    "                    continue\n",
    "\n",
    "            case \"N\":\n",
    "                    \n",
    "                if fila_a - (eslora-1)>=0:\n",
    "                    fila_inicio -= 1 \n",
    "                else:\n",
    "                    orientacion=\"S\"\n",
    "                    print(orientacion)\n",
    "                    continue\n",
    "                    \n",
    "                    \n",
    "        barco.append((fila_inicio, columna_inicio))\n",
    "        barcos_validos.append(barco)       \n",
    "        \n",
    "                \n",
    "\n",
    "    return barco"
   ]
  },
  {
   "cell_type": "code",
   "execution_count": 39,
   "metadata": {},
   "outputs": [],
   "source": [
    "barco_2= crear_barco_random(3,tablero)\n",
    "\n"
   ]
  },
  {
   "cell_type": "code",
   "execution_count": 40,
   "metadata": {},
   "outputs": [
    {
     "name": "stdout",
     "output_type": "stream",
     "text": [
      "[(4, 8), (3, 8), (2, 8)]\n",
      "[[(8, 0), (7, 0), (6, 0)], [(8, 0), (7, 0), (6, 0)], [(4, 0), (4, 1), (4, 2), (4, 3)], [(4, 0), (4, 1), (4, 2), (4, 3)], [(4, 0), (4, 1), (4, 2), (4, 3)], [(4, 8), (3, 8), (2, 8)], [(4, 8), (3, 8), (2, 8)]]\n"
     ]
    }
   ],
   "source": [
    "print(barco_2)\n",
    "print(barcos_validos)"
   ]
  },
  {
   "cell_type": "code",
   "execution_count": 41,
   "metadata": {},
   "outputs": [
    {
     "data": {
      "text/plain": [
       "array([['_', '_', '_', '_', '_', '_', '_', '_', '_', '_'],\n",
       "       ['_', '_', '_', '_', '_', '_', '_', '_', '_', '_'],\n",
       "       ['_', '_', '_', '_', '_', '_', '_', '_', 'O', '_'],\n",
       "       ['_', '_', '_', '_', '_', '_', '_', '_', 'O', '_'],\n",
       "       ['O', 'O', 'O', 'O', '_', '_', '_', '_', 'O', '_'],\n",
       "       ['_', '_', '_', '_', '_', '_', '_', '_', '_', '_'],\n",
       "       ['O', '_', '_', '_', '_', '_', '_', '_', '_', '_'],\n",
       "       ['O', '_', '_', '_', '_', '_', '_', '_', '_', '_'],\n",
       "       ['O', '_', '_', '_', '_', '_', '_', '_', '_', '_'],\n",
       "       ['_', '_', '_', '_', '_', '_', '_', '_', '_', '_']], dtype='<U1')"
      ]
     },
     "execution_count": 41,
     "metadata": {},
     "output_type": "execute_result"
    }
   ],
   "source": [
    "colocar_barco(barco_2,tablero)"
   ]
  },
  {
   "cell_type": "code",
   "execution_count": null,
   "metadata": {},
   "outputs": [],
   "source": []
  }
 ],
 "metadata": {
  "kernelspec": {
   "display_name": "Python 3",
   "language": "python",
   "name": "python3"
  },
  "language_info": {
   "codemirror_mode": {
    "name": "ipython",
    "version": 3
   },
   "file_extension": ".py",
   "mimetype": "text/x-python",
   "name": "python",
   "nbconvert_exporter": "python",
   "pygments_lexer": "ipython3",
   "version": "3.12.1"
  }
 },
 "nbformat": 4,
 "nbformat_minor": 2
}
