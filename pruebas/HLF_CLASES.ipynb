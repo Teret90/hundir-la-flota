{
 "cells": [
  {
   "cell_type": "code",
   "execution_count": 1,
   "metadata": {},
   "outputs": [],
   "source": [
    "import numpy as np\n",
    "import random"
   ]
  },
  {
   "cell_type": "code",
   "execution_count": null,
   "metadata": {},
   "outputs": [],
   "source": [
    "class Barco:\n",
    "\n",
    "    def __init__(self,eslora,posiciones):\n",
    "\n",
    "        self.posiciones = posiciones\n",
    "        self.eslora = eslora\n",
    "\n",
    "    \n",
    "        \n",
    "    \n"
   ]
  },
  {
   "cell_type": "code",
   "execution_count": null,
   "metadata": {},
   "outputs": [],
   "source": [
    "class Tablero:\n",
    "\n",
    "    def __init__(self, tablero,visible = True, tamaño = (10,10), mar = \"_\" ,dañado = \"X\",agua = \"A\"):\n",
    "        self.tablero = tablero\n",
    "        self.visible = visible\n",
    "        self.tamaño = tamaño\n",
    "        self.mar = mar\n",
    "        self.dañado = dañado\n",
    "        self.agua = agua\n",
    "\n",
    "    ###Método de la clase tablero\n",
    "        \n"
   ]
  }
 ],
 "metadata": {
  "kernelspec": {
   "display_name": "Python 3",
   "language": "python",
   "name": "python3"
  },
  "language_info": {
   "codemirror_mode": {
    "name": "ipython",
    "version": 3
   },
   "file_extension": ".py",
   "mimetype": "text/x-python",
   "name": "python",
   "nbconvert_exporter": "python",
   "pygments_lexer": "ipython3",
   "version": "3.12.1"
  }
 },
 "nbformat": 4,
 "nbformat_minor": 2
}
