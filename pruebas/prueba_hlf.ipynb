{
 "cells": [
  {
   "cell_type": "code",
   "execution_count": 1,
   "metadata": {},
   "outputs": [],
   "source": [
    "import numpy as np\n",
    "import random"
   ]
  },
  {
   "cell_type": "markdown",
   "metadata": {},
   "source": [
    "## Empezamos creando tablero y las variables necesarias:\n"
   ]
  },
  {
   "cell_type": "code",
   "execution_count": 47,
   "metadata": {},
   "outputs": [],
   "source": [
    "def crear_tablero(tamaño=(10,10)):\n",
    "    return np.full(tamaño, \"_\")"
   ]
  },
  {
   "cell_type": "code",
   "execution_count": 311,
   "metadata": {},
   "outputs": [],
   "source": [
    "barcos_no_validos=[]\n",
    "\n",
    "barcos_validos=[]\n",
    "\n",
    "casilla_o= \"O\"\n",
    "\n",
    "fila_a = random.randint(0,9)\n",
    "columna_a = random.randint(0,9)\n",
    "orientacion = random.choice([\"S\",\"O\",\"E\",\"N\"])\n",
    "\n",
    "barco = [(fila_a, columna_a)]"
   ]
  },
  {
   "cell_type": "code",
   "execution_count": 312,
   "metadata": {},
   "outputs": [
    {
     "name": "stdout",
     "output_type": "stream",
     "text": [
      "[['_' '_' '_' '_' '_' '_' '_' '_' '_' '_']\n",
      " ['_' '_' '_' '_' '_' '_' '_' '_' '_' '_']\n",
      " ['_' '_' '_' '_' '_' '_' '_' '_' '_' '_']\n",
      " ['_' '_' '_' '_' '_' '_' '_' '_' '_' '_']\n",
      " ['_' '_' '_' '_' '_' '_' '_' '_' '_' '_']\n",
      " ['_' '_' '_' '_' '_' '_' '_' '_' '_' '_']\n",
      " ['_' '_' '_' '_' '_' '_' '_' '_' '_' '_']\n",
      " ['_' '_' '_' '_' '_' '_' '_' '_' '_' '_']\n",
      " ['_' '_' '_' '_' '_' '_' '_' '_' '_' '_']\n",
      " ['_' '_' '_' '_' '_' '_' '_' '_' '_' '_']]\n"
     ]
    }
   ],
   "source": [
    "tablero=crear_tablero()\n",
    "print(tablero)"
   ]
  },
  {
   "cell_type": "code",
   "execution_count": 313,
   "metadata": {},
   "outputs": [],
   "source": [
    "def colocar_barco(barco, tablero):\n",
    "    for casilla in barco:\n",
    "        tablero[casilla] = \"O\"\n",
    "    return tablero"
   ]
  },
  {
   "cell_type": "markdown",
   "metadata": {},
   "source": [
    "## Seguimos creando barcos"
   ]
  },
  {
   "cell_type": "code",
   "execution_count": 314,
   "metadata": {},
   "outputs": [],
   "source": [
    "def crear_barco_random(eslora,tablero):\n",
    "    fila_a = random.randint(0,9)\n",
    "    columna_a = random.randint(0,9)\n",
    "\n",
    "    orientacion = random.choice([\"S\",\"O\",\"E\",\"N\"])\n",
    "\n",
    "    barco = [(fila_a, columna_a)]\n",
    "\n",
    "    while len(barco) < eslora:\n",
    "        match orientacion:\n",
    "            case \"O\":\n",
    "                columna_a -= 1 # columna_a = columna_a - 1\n",
    "            case \"E\":\n",
    "                columna_a += 1\n",
    "            case \"S\":\n",
    "                fila_a += 1\n",
    "            case \"N\":\n",
    "                fila_a -= 1\n",
    "        barco.append((fila_a, columna_a))\n",
    "    \"\"\"\n",
    "    Aquí voy a meter un bucle donde revise las tuplas que nos dicen la casilla de las posiciones de un barco para que si \n",
    "    son mayores de 9 o menores de 0 me elimine el barco y lo añada a una lista de barcos eliminados, de esta manera me quito el problema de que el \n",
    "    barco se salga del tablero ya al crear el barco \n",
    "    \"\"\"\n",
    "\n",
    "\n",
    "    \n",
    "    for n in barco:\n",
    "        for x in n:\n",
    "        \n",
    "            if x <0  or x>9 or n == casilla_o:\n",
    "                barcos_no_validos.append(barco)\n",
    "\n",
    "                print(\"Este barco no es válido, vuelve a generar un barco aleatorio\",barcos_no_validos)\n",
    "                break\n",
    "            else:\n",
    "                if barco not in barcos_validos:\n",
    "                    barcos_validos.append(barco)\n",
    "                    \n",
    "                    colocar_barco(barco,tablero)\n",
    "                    break\n",
    "                \n",
    "\n",
    "    \n",
    "            \n",
    "\n",
    "        \n",
    "            \n",
    "            \n",
    "\n",
    "    return tablero\n",
    "            \n",
    "\n",
    "   \n",
    "    \n",
    "                "
   ]
  },
  {
   "cell_type": "code",
   "execution_count": 244,
   "metadata": {},
   "outputs": [
    {
     "name": "stdout",
     "output_type": "stream",
     "text": [
      "1\n",
      "1\n",
      "1\n",
      "2\n"
     ]
    }
   ],
   "source": [
    "barco_prueba=[(1,1),(1,2)]\n",
    "for  fila_a,columna_a in (barco_prueba):\n",
    "    print(fila_a)\n",
    "    print(columna_a)"
   ]
  },
  {
   "cell_type": "code",
   "execution_count": 315,
   "metadata": {},
   "outputs": [
    {
     "name": "stdout",
     "output_type": "stream",
     "text": [
      "Este barco no es válido, vuelve a generar un barco aleatorio [[(0, 8), (-1, 8), (-2, 8)]]\n",
      "Este barco no es válido, vuelve a generar un barco aleatorio [[(0, 8), (-1, 8), (-2, 8)], [(0, 8), (-1, 8), (-2, 8)]]\n",
      "[['_' '_' '_' '_' '_' '_' '_' '_' 'O' '_']\n",
      " ['_' '_' '_' '_' '_' '_' '_' '_' '_' '_']\n",
      " ['_' '_' '_' '_' '_' '_' '_' '_' '_' '_']\n",
      " ['_' '_' '_' '_' '_' '_' '_' '_' '_' '_']\n",
      " ['_' '_' '_' '_' '_' '_' '_' '_' '_' '_']\n",
      " ['_' '_' '_' '_' '_' '_' '_' '_' '_' '_']\n",
      " ['_' '_' '_' '_' '_' '_' '_' '_' '_' '_']\n",
      " ['_' '_' '_' '_' '_' '_' '_' '_' '_' '_']\n",
      " ['_' '_' '_' '_' '_' '_' '_' '_' 'O' '_']\n",
      " ['_' '_' '_' '_' '_' '_' '_' '_' 'O' '_']]\n"
     ]
    }
   ],
   "source": [
    "barco=(crear_barco_random(3,tablero))\n",
    "print(barco)\n",
    "#barco2=(crear_barco_random(1))\n",
    "#barco3=(crear_barco_random(1))\n",
    "#barco4=(crear_barco_random(1))"
   ]
  },
  {
   "cell_type": "code",
   "execution_count": 307,
   "metadata": {},
   "outputs": [
    {
     "name": "stdout",
     "output_type": "stream",
     "text": [
      "[[(9, 2), (10, 2), (11, 2), (12, 2)], [(6, 9), (6, 10), (6, 11), (6, 12)], [(7, 5), (7, 4), (7, 3), (7, 2)], [(9, 0), (9, -1), (9, -2), (9, -3)], [(6, 8), (6, 7), (6, 6), (6, 5)], [(5, 4), (4, 4), (3, 4)], [(1, 1), (1, 0), (1, -1)], [(3, 5), (2, 5), (1, 5)], [(4, 3), (4, 4), (4, 5)]]\n",
      "[[(9, 0), (9, -1), (9, -2), (9, -3)], [(9, 0), (9, -1), (9, -2), (9, -3)], [(9, 0), (9, -1), (9, -2), (9, -3)], [(1, 1), (1, 0), (1, -1)]]\n",
      "9\n"
     ]
    }
   ],
   "source": [
    "print(barcos_validos)\n",
    "print(barcos_no_validos)\n",
    "print(len(barcos_validos))"
   ]
  },
  {
   "cell_type": "code",
   "execution_count": 55,
   "metadata": {},
   "outputs": [],
   "source": [
    "def colocar_barco1(barco, tablero):  ##prueba para que no se superpongan\n",
    "    for casilla in barco:\n",
    "        if tablero[casilla] != \"O\":\n",
    "            tablero[casilla] == \"O\"\n",
    "            print(tablero)\n",
    "        else:\n",
    "            barcos_no_validos.append(barco)\n",
    "    return tablero"
   ]
  },
  {
   "cell_type": "code",
   "execution_count": 159,
   "metadata": {},
   "outputs": [],
   "source": [
    "\n",
    "for tupla in barco:\n",
    "    if tupla ==\"O\":\n",
    "        barcos_no_validos.append(barco)\n",
    "        print(\"no se ha podido colocar el barco, esa posición está ocupada, crea otro barco aleatorio\")\n",
    "    else:\n",
    "        colocar_barco(barco,tablero)\n"
   ]
  },
  {
   "cell_type": "code",
   "execution_count": null,
   "metadata": {},
   "outputs": [],
   "source": [
    "def colocar_barco(barco, tablero): ##prueba el que funciona\n",
    "    for casilla in barco:\n",
    "        tablero[casilla] = \"O\"\n",
    "    return tablero"
   ]
  },
  {
   "cell_type": "code",
   "execution_count": 157,
   "metadata": {},
   "outputs": [
    {
     "data": {
      "text/plain": [
       "array([['O', '_', '_', '_', '_', '_', '_', '_', '_', 'O'],\n",
       "       ['_', '_', '_', '_', '_', '_', 'O', 'O', 'O', 'O'],\n",
       "       ['_', '_', '_', '_', '_', 'O', 'O', '_', '_', '_'],\n",
       "       ['_', '_', 'O', 'O', '_', 'O', 'O', '_', '_', '_'],\n",
       "       ['_', '_', '_', '_', '_', '_', '_', '_', '_', '_'],\n",
       "       ['_', '_', 'O', '_', '_', '_', '_', '_', '_', '_'],\n",
       "       ['O', '_', 'O', '_', '_', '_', '_', '_', '_', '_'],\n",
       "       ['O', '_', 'O', '_', '_', 'O', '_', '_', '_', '_'],\n",
       "       ['O', '_', '_', '_', '_', '_', '_', 'O', '_', '_'],\n",
       "       ['_', '_', '_', '_', '_', '_', '_', '_', '_', '_']], dtype='<U1')"
      ]
     },
     "execution_count": 157,
     "metadata": {},
     "output_type": "execute_result"
    }
   ],
   "source": [
    "colocar_barco(barco,tablero)\n",
    "#colocar_barco(barco1,tablero)\n",
    "#colocar_barco(barco3,tablero)"
   ]
  },
  {
   "cell_type": "code",
   "execution_count": 31,
   "metadata": {},
   "outputs": [
    {
     "ename": "TypeError",
     "evalue": "'<' not supported between instances of 'range' and 'int'",
     "output_type": "error",
     "traceback": [
      "\u001b[1;31m---------------------------------------------------------------------------\u001b[0m",
      "\u001b[1;31mTypeError\u001b[0m                                 Traceback (most recent call last)",
      "Cell \u001b[1;32mIn[31], line 1\u001b[0m\n\u001b[1;32m----> 1\u001b[0m \u001b[38;5;28;01mwhile\u001b[39;00m \u001b[38;5;28;43mrange\u001b[39;49m\u001b[43m(\u001b[49m\u001b[38;5;28;43mlen\u001b[39;49m\u001b[43m(\u001b[49m\u001b[43mbarcos_validos\u001b[49m\u001b[43m)\u001b[49m\u001b[43m)\u001b[49m\u001b[38;5;241;43m<\u001b[39;49m\u001b[38;5;241;43m5\u001b[39;49m:\n\u001b[0;32m      2\u001b[0m     crear_barco_random(\u001b[38;5;241m1\u001b[39m)\n\u001b[0;32m      3\u001b[0m \u001b[38;5;28;01mwhile\u001b[39;00m \u001b[38;5;28mrange\u001b[39m(\u001b[38;5;28mlen\u001b[39m(barcos_validos))\u001b[38;5;241m>\u001b[39m\u001b[38;5;241m4\u001b[39m \u001b[38;5;129;01mand\u001b[39;00m \u001b[38;5;28mrange\u001b[39m(\u001b[38;5;28mlen\u001b[39m(barcos_validos))\u001b[38;5;241m<\u001b[39m\u001b[38;5;241m8\u001b[39m:\n",
      "\u001b[1;31mTypeError\u001b[0m: '<' not supported between instances of 'range' and 'int'"
     ]
    }
   ],
   "source": [
    "while range(len(barcos_validos))<5:\n",
    "    crear_barco_random(1)\n",
    "while range(len(barcos_validos))>4 and range(len(barcos_validos))<8:\n",
    "    crear_barco_random(2)\n",
    "\n",
    "    "
   ]
  },
  {
   "cell_type": "code",
   "execution_count": 26,
   "metadata": {},
   "outputs": [
    {
     "name": "stdout",
     "output_type": "stream",
     "text": [
      "[[(4, 7), (3, 7)], [(9, 1), (8, 1)]]\n"
     ]
    }
   ],
   "source": [
    "barco=crear_barco_random(2)"
   ]
  },
  {
   "cell_type": "code",
   "execution_count": null,
   "metadata": {},
   "outputs": [],
   "source": []
  }
 ],
 "metadata": {
  "kernelspec": {
   "display_name": "Python 3",
   "language": "python",
   "name": "python3"
  },
  "language_info": {
   "codemirror_mode": {
    "name": "ipython",
    "version": 3
   },
   "file_extension": ".py",
   "mimetype": "text/x-python",
   "name": "python",
   "nbconvert_exporter": "python",
   "pygments_lexer": "ipython3",
   "version": "3.12.1"
  }
 },
 "nbformat": 4,
 "nbformat_minor": 2
}
